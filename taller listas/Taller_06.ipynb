{
  "cells": [
    {
      "cell_type": "markdown",
      "metadata": {
        "id": "svZa0r16bMoV"
      },
      "source": [
        "<h1 align=\"center\">Taller 06 - Introducción a Listas</h1>"
      ]
    },
    {
      "cell_type": "markdown",
      "metadata": {
        "id": "irVwKxiEbMoX"
      },
      "source": [
        "## Ejercicio 01: Crear una lista\n",
        "\n",
        "Suponga que tenemos los puntos que han hecho en el campeonato de fútbol, cinco equipos colombianos. Escribir un programa que crea una lista, llamada ``puntos_equipos`` que contiene los puntos de junior, panteras, millonarios, nacional y america, en ese orden. Utilice la variables que están en el programa. Luego imprima la lista, usando la función ``print()``."
      ]
    },
    {
      "cell_type": "code",
      "execution_count": 44,
      "metadata": {
        "id": "v4LEnX-PbMoY"
      },
      "outputs": [
        {
          "name": "stdout",
          "output_type": "stream",
          "text": [
            "[47, 27, 3, 18, 23]\n",
            "Prueba superada 😎\n"
          ]
        }
      ],
      "source": [
        "# Las variables con los puntos de los equipos\n",
        "junior = 47\n",
        "panteras = 27\n",
        "millonarios = 3\n",
        "nacional = 18\n",
        "america = 23\n",
        "# TODO: Crear la lista puntos_equipos\n",
        "puntos_equipos=[junior,panteras,millonarios,nacional,america]\n",
        "# TODO: imprimir la lista\n",
        "print(puntos_equipos)\n",
        "# Verificación\n",
        "assert puntos_equipos == [47, 27, 3, 18, 23]\n",
        "print(\"Prueba superada 😎\")"
      ]
    },
    {
      "cell_type": "markdown",
      "metadata": {
        "id": "30WUyWEKbMoa"
      },
      "source": [
        "---"
      ]
    },
    {
      "cell_type": "markdown",
      "metadata": {
        "id": "4y6qUrYQbMob"
      },
      "source": [
        "## Ejercicio 02: Obtener datos de la lista\n",
        "\n",
        "Suponga que tenemos la lista con las edades de varios estudiantes. Escriba instrucciones para llevar a cabos las siguientes tareas:\n",
        "\n",
        "* Imprimir el tamaño o el número de elementos de la lista ``edades``.\n",
        "* Imprimir el segundo elemento de la lista de ``edades`` (debe ser un 11)\n",
        "* Obtener e imprimir el último elemento de la lista de ``edades`` (que debe ser un 9). Use un índice negativo.\n",
        "* Imprimir el elemento que se encuentra en la mitad de la lista (que debe ser un 20).\n",
        "* Usando múltiples índices, guardar en una variable, llamada ``primeros`` los primeros 6 elementos de la lista de ``edades``. Imprima la variable ``primeros``.\n",
        "* Usando múltiples índices, guardar en una variable llamada ``ultimos`` los últimos 4 elementos de la lista de ``eddades``. Imprima la varibale ``ultimos``.\n"
      ]
    },
    {
      "cell_type": "code",
      "execution_count": 45,
      "metadata": {
        "id": "HpBHGePrbMob"
      },
      "outputs": [
        {
          "name": "stdout",
          "output_type": "stream",
          "text": [
            "el tamaño es:  9\n",
            "segundo elemento:  11\n",
            "ultimo elemento:  9\n",
            "elemento de la mitad:  20\n",
            "primeros 6 elementos:  [18, 11, 34, 63, 20, 28]\n",
            "ultimos 4 elementos:  [28, 45, 22, 9]\n"
          ]
        }
      ],
      "source": [
        "# Tenemos la lista de edades\n",
        "edades = [18, 11, 34, 63, 20, 28, 45, 22, 9]\n",
        "\n",
        "# TODO: Imprimir el tamaño o el número de elementos de la lista edades.\n",
        "print(\"el tamaño es: \",len(edades) )\n",
        "\n",
        "# TODO: Imprimir el segundo elemento de la lista de edades (debe ser un 11)\n",
        "print(\"segundo elemento: \",edades[1] )\n",
        "\n",
        "# TODO: Obtener e imprimir el último elemento de la lista de edades (que debe ser un 9). Use un índice negativo.\n",
        "print(\"ultimo elemento: \",edades[-1] )\n",
        "\n",
        "# TODO: Imprimir el elemento que se encuentra en la mitad de la lista (que debe ser un 20).\n",
        "print(\"elemento de la mitad: \", edades[len(edades)//2])\n",
        "\n",
        "# TODO: Usando múltiples índices, guardar en una variable, llamada primeros los primeros 6 elementos de la lista de edades. Imprima la variable primeros.\n",
        "primeros=edades[0:6]\n",
        "print(\"primeros 6 elementos: \", primeros)\n",
        "\n",
        "# TODO: Usando múltiples índices, guardar en una variable llamada ultimos los últimos 4 elementos de la lista de eddades. Imprima la varibale ultimos.\n",
        "ultimos=edades[-4:9]\n",
        "print(\"ultimos 4 elementos: \", ultimos)\n",
        "\n",
        "# TODO: Guardar en otra variable ``primeros2`` otra vez los primeros 6 elementos de la lista ``edades``. Esta vez simplifique la escogencia omitiendo el índice inicial\n",
        "\n",
        "\n",
        "# TODO: Guardar en otra variable ``ultimos2`` otra vez los últimos 4 elementos de la lista ``edades``. Esta vez simplifique la escogencia omitiendo el índice final\n"
      ]
    },
    {
      "cell_type": "markdown",
      "metadata": {
        "id": "ewLkSTfWbMob"
      },
      "source": [
        "---"
      ]
    },
    {
      "cell_type": "markdown",
      "metadata": {
        "id": "YhPF6V-fbMoc"
      },
      "source": [
        "## Ejercicio 03: Manipulando listas\n",
        "\n",
        "Vamos a realizar el siguiente trabajo para modificar la lista de edades.\n",
        "\n",
        "* Actualice el valor del último elemento de la lista ``edades``. Ya no queremos que sea un ``9`` sino que sea un 19.\n",
        "* Modifique el valor del tercer elemento de la lista de ``edades``. Guardar un 24 en esa posición.\n",
        "* Imprima la lista de edades. Verifique que el tercer elemento sea un 24, y que el último sea un 19.\n",
        "* Agregue los elementos ``21``, ``32`` y ``16`` al final de la lista ``edades``. Imprima el tamaño de la lista y luego imprima la lista.\n",
        "* Elimine el primer elemento de la lista, y luego elimine el quinto elemento de la lista de edades. Imprima la lista y el tamaño de la lista también."
      ]
    },
    {
      "cell_type": "code",
      "execution_count": 46,
      "metadata": {
        "id": "-tZKFjhQbMoc"
      },
      "outputs": [
        {
          "name": "stdout",
          "output_type": "stream",
          "text": [
            "nuevo ultimo:  19\n",
            "nuevo tercero:  24\n",
            "[18, 11, 24, 63, 20, 28, 45, 22, 19]\n",
            "Prueba superada 😎\n",
            "nuevo tamaño:  12 nueva lista:  [18, 11, 24, 63, 20, 28, 45, 22, 19, 21, 32, 16]\n",
            "nuevo tamaño:  10 nueva lista:  [11, 24, 63, 28, 45, 22, 19, 21, 32, 16]\n"
          ]
        }
      ],
      "source": [
        "# TODO: Actualice el valor del último elemento de la lista edades. Ya no queremos que sea un 9 sino que sea un 19.\n",
        "edades[-1]=19\n",
        "print(\"nuevo ultimo: \", edades[-1])\n",
        "# TODO: Modifique el valor del tercer elemento de la lista de edades. Guardar un 24 en esa posición.\n",
        "edades[2]=24\n",
        "print(\"nuevo tercero: \", edades[2])\n",
        "# TODO: Imprima la lista de edades. Verifique que el tercer elemento sea un 24, y que el último sea un 19.\n",
        "print(edades) \n",
        "#verificacion\n",
        "assert edades[-1]==19 and edades[2]==24\n",
        "print(\"Prueba superada 😎\")\n",
        "# TODO: Agregue los elementos 21, 32 y 16 al final de la lista edades. Imprima el tamaño de la lista y luego imprima la lista.\n",
        "edades.append(21)\n",
        "edades.append(32)\n",
        "edades.append(16)\n",
        "print(\"nuevo tamaño: \", len(edades), \"nueva lista: \",edades)\n",
        "# TODO: Elimine el primer elemento de la lista, y luego elimine el quinto elemento de la lista de edades. Imprima la lista y el tamaño de la lista también.\n",
        "edades.pop(0)\n",
        "edades.pop(3)\n",
        "print(\"nuevo tamaño: \", len(edades), \"nueva lista: \",edades)"
      ]
    },
    {
      "cell_type": "markdown",
      "metadata": {
        "id": "_r7O0ST_bMod"
      },
      "source": [
        "---"
      ]
    },
    {
      "cell_type": "markdown",
      "metadata": {
        "id": "wFbbvqEzbMod"
      },
      "source": [
        "## Ejercicio 04 - Leer una lista de números\n",
        "\n",
        "Escribir un **programa** en Python que lea la edad de $N$ estudiantes del curso, los almacene en una lista de números y luego imprima la lista"
      ]
    },
    {
      "cell_type": "code",
      "execution_count": 53,
      "metadata": {
        "id": "jBrsBWHdbMod"
      },
      "outputs": [
        {
          "name": "stdout",
          "output_type": "stream",
          "text": [
            "lista:  [21, 23, 24, 25, 21]\n"
          ]
        }
      ],
      "source": [
        "# Programa en Python para leer la edad de varios estudiantes. \n",
        "# Vamos a preguntar cuantos estudiantes hay = N.\n",
        "c=0\n",
        "estudiantes=int(input(\"¿cuantos estudiantes hay? \"))\n",
        "edades1=[]\n",
        "while True:\n",
        "    if(c==estudiantes):\n",
        "        break\n",
        "    edad=int(input(\"ingrese edad: \"))\n",
        "    edades1.append(edad)\n",
        "    c=c+1\n",
        "print(\"lista: \", edades1)"
      ]
    },
    {
      "cell_type": "markdown",
      "metadata": {
        "id": "f6S-ynMebMoe"
      },
      "source": [
        "---\n",
        "\n",
        "## Ejercicio 05 - Leer una lista de tuplas\n",
        "\n",
        "Escribir un **Programa** que le pregunte al usuario el nombre de paises y sus capitales, los guarde en un *Par*  o *Tupla*, y luego almacene ese par en una lista. Para finalizar, el nombre del país y el nombre de la capital deben ser vacíos (al tiempo). Imprima la lista una vez finalice la lectura de los datos"
      ]
    },
    {
      "cell_type": "code",
      "execution_count": 57,
      "metadata": {
        "id": "g8dwGSnobMoe"
      },
      "outputs": [
        {
          "name": "stdout",
          "output_type": "stream",
          "text": [
            "[('colombia', 'bogota'), ('españa', 'madrid'), ('italia', 'roma'), ('francia', 'paris')]\n"
          ]
        }
      ],
      "source": [
        "# Programa en Python para leer paises y capitales. Vamos a preguntar cuantos paises leer.\n",
        "lista=[]\n",
        "while True:\n",
        "    pais=input(\"ingrese pais: \")\n",
        "    capital=input(f\"ingrese capital del pais({pais}): \")\n",
        "    if(pais==\"\" and capital==\"\"):\n",
        "        break\n",
        "    par=(pais,capital)\n",
        "    lista.append(par)\n",
        "print(lista)"
      ]
    },
    {
      "cell_type": "markdown",
      "metadata": {
        "id": "EbkEj8DzbMoe"
      },
      "source": [
        "---\n",
        "\n",
        "## Ejercicio 06 \n",
        "\n",
        "Escribir un Programa en Python que le pregunte a un usuario el nombre, carrera y promedio en la carrera, de varios estudiantes de la universidad, almacene cada uno de esos tres datos en una tupla, y luego guarde la tupla en una lista. Al final, imprima la lista. Use un while para saber si debemos seguir o no en la lectura de los datos."
      ]
    },
    {
      "cell_type": "code",
      "execution_count": 49,
      "metadata": {
        "id": "mhfK-n60bMof"
      },
      "outputs": [],
      "source": [
        "# Programa en Python para leer información de varios estudiantes. Use un while para saber si seguimos la lectura o no\n"
      ]
    },
    {
      "cell_type": "markdown",
      "metadata": {
        "id": "SX2wZ6xXbMof"
      },
      "source": [
        "---\n",
        "\n",
        "## Ejercicio 07 - Contar de una lista \n",
        "\n",
        "Escriba una **función** en Python que reciba una lista de números ```float``` que representa los promedios de temperatura en Bogotá en los últimos días, y que retorne cuántas de esas temperaturas están entre los 15 y los 20 grados centígrados."
      ]
    },
    {
      "cell_type": "code",
      "execution_count": 60,
      "metadata": {
        "id": "OMfvbRVqbMof"
      },
      "outputs": [
        {
          "name": "stdout",
          "output_type": "stream",
          "text": [
            "Prueba superada 💪🏽\n"
          ]
        }
      ],
      "source": [
        "# Función que cuenta en una lista\n",
        "def contar_temperaturas(temps: [float]) -> int:\n",
        "    c=0\n",
        "    for i in temps:\n",
        "        if(i>=15 and i<=20):\n",
        "            c=c+1\n",
        "    return c\n",
        "\n",
        "\n",
        "# Pruebas de la función anterior\n",
        "assert contar_temperaturas([11, 18, 23.5, 19.5, 6, 16.3, 22.1, 4.6, 18.9, 18.6, 15.1, 16.1, 19.9, 1.5, 12, 21.7]) == 8\n",
        "print(\"Prueba superada 💪🏽\")"
      ]
    },
    {
      "cell_type": "markdown",
      "metadata": {
        "id": "3Q2V-oj3bMof"
      },
      "source": [
        "---\n",
        "\n",
        "## Ejercicio 08\n",
        "\n",
        "Escriba una **función** en Python que reciba una lista de números enteros que representan la edad de los diversos compañeros del curso, y que calcule y retorne cuántos de esos compañeros son menores de edad, es decir, cuántas edades son inferiores a 18 años."
      ]
    },
    {
      "cell_type": "code",
      "execution_count": null,
      "metadata": {
        "id": "K6R15n6HbMof"
      },
      "outputs": [],
      "source": [
        "# Función que cuenta los menores de edad en una lista de edades\n",
        "def ejercicio08(lista_edades:[int]) -> int:\n",
        "    pass\n",
        "\n",
        "# Pruebas de la función anterior\n",
        "assert ejercicio08([23, 31, 16, 11, 21, 18, 34, 45, 17, 16, 32, 43, 20, 19, 18, 16, 14, 33]) == 6\n",
        "print(\"Prueba superada 💪🏽\")"
      ]
    },
    {
      "cell_type": "markdown",
      "metadata": {
        "id": "fpt_tnokbMog"
      },
      "source": [
        "---\n",
        "\n",
        "## Ejercicio 09\n",
        "\n",
        "SEn Python, resulta que una palabra es una lista de letras. A partir de esto, escriba una **función** en Python que cuente en esa lista de letras cuántas vocales en minúsculas hay en la lista.\n"
      ]
    },
    {
      "cell_type": "code",
      "execution_count": null,
      "metadata": {
        "id": "XjktPZwkbMog"
      },
      "outputs": [],
      "source": [
        "# Función que cuenta las vocales en una palabra\n",
        "def ejercicio09(palabra: str) -> int:\n",
        "    pass\n",
        "\n",
        "# Pruebas de la función anterior\n",
        "assert (ejercicio09(\"Lorem ipsum dolor sit Amet, consectetur adipiscing elit\")) == 18\n",
        "assert (ejercicio09\"Ut enim ad minima veniam, quis nostrum exercitationem ullam corporis\")) == 25\n",
        "print(\"Prueba superada 💪🏽\")"
      ]
    },
    {
      "cell_type": "markdown",
      "metadata": {
        "id": "p10Xz2gebMog"
      },
      "source": [
        "---\n",
        "\n",
        "## Ejercicio 10\n",
        "\n",
        "Escriba una función en Python que reciba una lista de números enteros positivos, y que retorne cuántos de los números de la lista son múltiplos de 2, 3 y 5 al mismo tiempo."
      ]
    },
    {
      "cell_type": "code",
      "execution_count": null,
      "metadata": {
        "id": "E47Dy2PTbMog"
      },
      "outputs": [],
      "source": [
        "# Función que cuenta los múltiplos\n",
        "def ejercicio10(numeros: [int]) -> int:\n",
        "    pass\n",
        "\n",
        "# Pruebas para la función anterior\n",
        "assert (ejercicio10([5, 10, 30, 25, 24, 60, 12, 100, 120, 15, 90, 95, 36, 35, 72, 180])) == 5\n",
        "print(\"Prueba superada 💪🏽\")"
      ]
    },
    {
      "cell_type": "markdown",
      "metadata": {
        "id": "Y57WAmMlbMoh"
      },
      "source": [
        "---\n",
        "\n",
        "## Ejercicio 11 - Múltiples contadores\n",
        "\n",
        "Escriba una función en Python que reciba una lista con los nombre de los perros de mis vecinos, y que retorne cuántos perros de la lista se llaman ```\"fifi\"``` y cuantos se llaman ```\"mateo\"```. **OJO: Son dos contadores diferentes**."
      ]
    },
    {
      "cell_type": "code",
      "execution_count": 61,
      "metadata": {
        "id": "GFo24Q99bMoh"
      },
      "outputs": [
        {
          "name": "stdout",
          "output_type": "stream",
          "text": [
            "Prueba superada 💪🏽\n"
          ]
        }
      ],
      "source": [
        "# Función que cuenta el número de perros\n",
        "def ejercicio11(perros: [str]) -> (int, int):\n",
        "    fifi=0\n",
        "    mateo=0\n",
        "    for perro in perros:\n",
        "        if(perro==\"fifi\"):\n",
        "            fifi=fifi+1\n",
        "        if(perro==\"mateo\"):\n",
        "            mateo=mateo+1\n",
        "    return fifi,mateo\n",
        "\n",
        "# Prueba de la función anterior\n",
        "assert (ejercicio11([\"lila\", \"firulais\", \"romeo\", \"fifi\", \"neron\", \"milagro\", \"fifi\", \"lila\", \"cariño\", \"rosa\", \"fifi\", \"mateo\", \"rex\"])) == (3,1)\n",
        "print(\"Prueba superada 💪🏽\")"
      ]
    },
    {
      "cell_type": "markdown",
      "metadata": {
        "id": "S5nX-Km-bMoi"
      },
      "source": [
        "---\n",
        "\n",
        "## Ejercicio 12 - Contar en listas de tuplas\n",
        "\n",
        "En una tupla de dos elementos hemos almacenado el resultado de cada uno de los partidos que ha jugado el Junior de Barranquilla. El primer elemento es la cantidad de goles que hizo el equipo en el partido, y el segundo elemento corresponde a los goles que le hicieron al equipo en el partido. Escriba una función que reciba esta lista de tuplas con los resultados de los partidos, y que retorne cuántos partidos ganó en total, cuántos empató y cuántos perdió."
      ]
    },
    {
      "cell_type": "code",
      "execution_count": null,
      "metadata": {
        "id": "tL4YTpS2bMoi"
      },
      "outputs": [],
      "source": [
        "# Función para contar partidos\n",
        "def resultados_partidos(partidos:[(int, int)]) -> (int, int, int):\n",
        "    pass\n",
        "\n",
        "# prueba de la función anterior\n",
        "assert (resultados_partidos([(1, 3), (0, 0), (4, 0), (5, 3), (2, 2), (4, 3), (1, 0), (1, 2), (0, 0), (3, 2), (3, 1), (7, 0), (0, 2), (3, 3), (4, 2), (3, 4)])) == (8, 4, 4)\n",
        "print(\"Prueba superada 💪🏽\")"
      ]
    },
    {
      "cell_type": "markdown",
      "metadata": {
        "id": "J_vW5IaLbMoi"
      },
      "source": [
        "---\n",
        "\n",
        "# Ejercicio 13\n",
        "\n",
        "La información de los salarios de una empresa se almacena en una tupla de 3 elementos, de la siguiente manera:\n",
        "\n",
        "* El primer elemento es el cargo del empleado\n",
        "* El segundo elemento de la tupla es la edad del empleado\n",
        "* El tercer elemento de la tupla es el sueldo del empleado\n",
        "\n",
        "Escriba una función en Python que reciba esta lista de tuplas con la información de los empleados, y que retorne cuántos empleados que tienen un cargo de gerente o contador, tienen entre 45 y 50 años, pero ganan menos de dos millones de pesos."
      ]
    },
    {
      "cell_type": "code",
      "execution_count": null,
      "metadata": {
        "id": "ZLwVYvO6bMoj"
      },
      "outputs": [],
      "source": [
        "# Función para resolver el ejercicio 13\n",
        "def ejercicio13(empleados: [(str, int, float)]) -> int:\n",
        "    pass\n",
        "\n",
        "# Pruebas de la función anterior\n",
        "assert (ejercicio13([(\"director\", 38, 1500000), (\"gerente\", 47, 1_450_000), (\"celador\", 63, 700_000), (\"director\", 29, 2_700_000),\n",
        "                    (\"contador\", 51, 1_900_000), (\"contador\", 49, 1_900_000), (\"analista\", 23, 11_200_000), (\"gerente\", 46, 1_200_000),\n",
        "                    (\"contador\", 39, 2_100_000), (\"profesional\", 36, 2_100_000), (\"gerente\", 45, 1_050_000), (\"contador\", 46, 800_000)])) == 5\n",
        "print(\"Prueba superada 💪🏽\")  "
      ]
    },
    {
      "cell_type": "markdown",
      "metadata": {
        "id": "tfVx2BWbbMoj"
      },
      "source": [
        "---\n",
        "\n",
        "# Ejercicio 14\n",
        "\n",
        "Un estudiante registra toda su historia académica en una lista de tuplas con la siguiente conformación:\n",
        "\n",
        "* El primer elemento es el nombre de la unidad de estudio\n",
        "* El segundo elemento es número de créditos de la unidad de estudio\n",
        "* El tercer elemento es el semestre al que pertenece esa unidad de estudio\n",
        "* El cuarto y quinto elemento son las notas del primer corte y segundo corte de la unidad de estudios\n",
        "\n",
        "Sabiendo que para obtener la nota final de una unidad de estudios debemos tener en cuenta que el primer corte pesa el 40% de la nota final, y el segundo corte pesa el 60% de la nota, escriba una función que reciba esta lista con las notas del estudiante y que retorne cuántas unidades de estudio perdió el estudiante."
      ]
    },
    {
      "cell_type": "code",
      "execution_count": null,
      "metadata": {
        "id": "xOtABZ4JbMoj"
      },
      "outputs": [],
      "source": [
        "# Función para resolver el Ejercicio 14: Completar los datos de entrada\n",
        "def ejercicio14(materias:[()]) -> int:\n",
        "    pass\n",
        "\n",
        "# Pruebas para la función anterior\n",
        "assert (ejercicio14([(\"calculo\", 6, 1, 45, 67), (\"frances\", 3, 2, 77, 89), (\"calculo\", 6, 1, 72, 58), (\"ecuaciones\", 3, 4, 68, 61),\n",
        "                    (\"ingles basico\", 3, 2, 79, 85), (\"quimica\", 4, 1, 88, 92), (\"fisica\", 3, 2, 56,61), (\"procesos\", 3, 4, 75, 77),\n",
        "                    (\"cultura\", 2, 3, 33, 21), (\"deportes\", 2, 1, 98, 90), (\"cocina\", 3, 4, 79, 98), (\"estadistica\", 3, 4, 53, 10)])) == 4\n",
        "\n",
        "print(\"Prueba superada 💪🏽\") "
      ]
    },
    {
      "cell_type": "markdown",
      "metadata": {
        "id": "yrHlb7OsbMok"
      },
      "source": [
        "---\n",
        "\n",
        "# Ejercicio 15\n",
        "\n",
        "La información sobre todos los contagiados de Coronavirus son almacenados en una tupla con la siguiente coformación:\n",
        "\n",
        "* El primer elemento de la tupla es el género del contagiado ('M' = masculino, y 'F' = femenino)\n",
        "* El segundo elemento es la edad del contagiado\n",
        "* El tercer elemento de la tupla es cuantos días lleva contagiado\n",
        "* El cuarto elemento es si el contagiado falleció o no (True == si falleció, False == no falleció)\n",
        "\n",
        "Escriba una función en Python que reciba una lista con estas tuplas que representan la información de los contagiados y que retorne cuántas mujeres mayores de 60 años han fallecido y cuántos menores de edad tienen más de una semana de haber sido contagiados."
      ]
    },
    {
      "cell_type": "code",
      "execution_count": null,
      "metadata": {
        "id": "DKh7AHUsbMok"
      },
      "outputs": [],
      "source": [
        "# Función para resolver el Ejercicio 15\n",
        "def ejercicio15(contagiados: ...\n",
        "    pass\n",
        "\n",
        "# Pruebas de la función anterior\n",
        "assert (ejercicio15([('M', 23, 12, False), ('M', 45, 3, False), ('M', 72, 6, True), ('F', 81, 11, True), ('M', 11, 12, False), ('M', 17, 8, True),\n",
        "                   ('F', 77, 3, True), ('M', 67, 4, False), ('F', 61, 5, True), ('M', 14, 28, False), ('M', 44, 11, True), ('M', 6, 3, False),\n",
        "                    ('M', 28, 19, False), ('F', 91, 10, True)])) == (4, 3)\n",
        "print(\"Prueba superada 💪🏽\")           "
      ]
    },
    {
      "cell_type": "markdown",
      "metadata": {
        "id": "ejNsZlafbMok"
      },
      "source": [
        "---\n",
        "\n",
        "# Ejercicio 16\n",
        "\n",
        "Seguimos trabajando con la lista de contagiados presentada anteriormente. Escriba una función que permita saber cuantos fallecido hay de cada género, es decir, cuántas mujeres han fallecido y cuántos hombres han fallecido."
      ]
    },
    {
      "cell_type": "code",
      "execution_count": null,
      "metadata": {
        "id": "GN9aZMI3bMol"
      },
      "outputs": [],
      "source": [
        "# Función para resolver el ejercicio 16\n",
        "def ejercicio16(contagiados: [( , , , , )]) -> (int, int):\n",
        "    pass\n",
        "\n",
        "# Pruebas de la función anterior\n",
        "assert (ejercicio16([('M', 23, 12, False), ('M', 45, 3, False), ('M', 72, 6, True), ('F', 81, 11, True), ('M', 11, 12, False), ('M', 17, 8, True),\n",
        "                   ('F', 77, 3, True), ('M', 67, 4, False), ('F', 61, 5, True), ('M', 14, 28, False), ('M', 44, 11, True), ('M', 6, 3, False),\n",
        "                    ('M', 28, 19, False), ('F', 91, 10, True), ('F', 72, 6, True)])) == (5, 3)\n",
        "print(\"Prueba superada 💪🏽\")   "
      ]
    },
    {
      "cell_type": "markdown",
      "metadata": {
        "id": "aoQi0iSAbMol"
      },
      "source": [
        "---\n",
        "\n",
        "## Ejercicio 17\n",
        "\n",
        "Seguimos trabajando con la lista de contagiados. Ahora queremos saber cuántas personas que no han fallecido tienen entre 20 y 30 años de edad."
      ]
    },
    {
      "cell_type": "code",
      "execution_count": null,
      "metadata": {
        "id": "Wen5WsmZbMol"
      },
      "outputs": [],
      "source": [
        "# Función para resolver el ejercicio 17\n",
        "def ejercicio17(contagiados: [(, , , ,)]) -> int:\n",
        "    pass\n",
        "\n",
        "# Pruebas de la función anterior\n",
        "assert (ejercicio17([('M', 23, 12, False), ('M', 45, 3, False), ('M', 72, 6, True), ('F', 81, 11, True), ('M', 11, 12, False), ('M', 17, 8, True),\n",
        "                   ('F', 77, 3, True), ('M', 67, 4, False), ('F', 61, 5, True), ('M', 14, 28, False), ('M', 44, 11, True), ('M', 6, 3, False),\n",
        "                    ('M', 28, 19, False), ('F', 91, 10, True), ('F', 72, 6, True), ('F', 26, 5, False)])) == 3\n",
        "print(\"Prueba superada 💪🏽\")   "
      ]
    }
  ],
  "metadata": {
    "colab": {
      "name": "Taller_06.ipynb",
      "provenance": []
    },
    "kernelspec": {
      "display_name": "Python 3.10.7 64-bit",
      "language": "python",
      "name": "python3"
    },
    "language_info": {
      "codemirror_mode": {
        "name": "ipython",
        "version": 3
      },
      "file_extension": ".py",
      "mimetype": "text/x-python",
      "name": "python",
      "nbconvert_exporter": "python",
      "pygments_lexer": "ipython3",
      "version": "3.10.7"
    },
    "vscode": {
      "interpreter": {
        "hash": "c72b5482d54b2e3df7ba4119ca1d868b3524581907a5904b5878e84c5c50da06"
      }
    }
  },
  "nbformat": 4,
  "nbformat_minor": 0
}
